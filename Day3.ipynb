{
 "cells": [
  {
   "cell_type": "code",
   "execution_count": null,
   "id": "2e0dc611",
   "metadata": {},
   "outputs": [
    {
     "name": "stdout",
     "output_type": "stream",
     "text": [
      "[6, 8, 10, 12, 14]\n"
     ]
    }
   ],
   "source": [
    "i = []\n",
    "\n",
    "for n in range(10):\n",
    "    if n % 2 == 1:\n",
    "        i.append(n+5)\n",
    "        \n",
    "print(i)\n"
   ]
  },
  {
   "cell_type": "code",
   "execution_count": 28,
   "id": "05d3faef",
   "metadata": {},
   "outputs": [
    {
     "data": {
      "text/plain": [
       "[6, 8, 10, 12, 14]"
      ]
     },
     "execution_count": 28,
     "metadata": {},
     "output_type": "execute_result"
    }
   ],
   "source": [
    "[x + 5 for x in range(1,10,2)]"
   ]
  },
  {
   "cell_type": "code",
   "execution_count": 31,
   "id": "b89b7ec1",
   "metadata": {},
   "outputs": [],
   "source": [
    "def squree(i):\n",
    "    return i\n",
    "\n"
   ]
  },
  {
   "cell_type": "code",
   "execution_count": 7,
   "id": "e0b119eb",
   "metadata": {},
   "outputs": [
    {
     "name": "stdout",
     "output_type": "stream",
     "text": [
      "[50, 100, 'No Power-Up', 200, 'No Power-Up', 150]\n"
     ]
    }
   ],
   "source": [
    "levels = [50, 100, 0, 200, 0, 150]\n",
    "i = []\n",
    "\n",
    "for lvl in levels:\n",
    "     if lvl != 0:\n",
    "         i.append(lvl)\n",
    "     else:\n",
    "         i.append(\"No Power-Up\")\n",
    "         \n",
    "print(i)"
   ]
  },
  {
   "cell_type": "code",
   "execution_count": 9,
   "id": "23ffc2c8",
   "metadata": {},
   "outputs": [
    {
     "data": {
      "text/plain": [
       "[50, 100, 'No Power-Up', 200, 'No Power-Up', 150]"
      ]
     },
     "execution_count": 9,
     "metadata": {},
     "output_type": "execute_result"
    }
   ],
   "source": [
    "[x if x!= 0 else \"No Power-Up\" for x in levels]\n"
   ]
  },
  {
   "cell_type": "code",
   "execution_count": 12,
   "id": "2e94401f",
   "metadata": {},
   "outputs": [
    {
     "ename": "TypeError",
     "evalue": "object of type 'builtin_function_or_method' has no len()",
     "output_type": "error",
     "traceback": [
      "\u001b[31m---------------------------------------------------------------------------\u001b[39m",
      "\u001b[31mTypeError\u001b[39m                                 Traceback (most recent call last)",
      "\u001b[36mCell\u001b[39m\u001b[36m \u001b[39m\u001b[32mIn[12]\u001b[39m\u001b[32m, line 3\u001b[39m\n\u001b[32m      1\u001b[39m messages = [\u001b[33m'\u001b[39m\u001b[33m😊🎉\u001b[39m\u001b[33m'\u001b[39m, \u001b[33m'\u001b[39m\u001b[33mHi there! 😊\u001b[39m\u001b[33m'\u001b[39m, \u001b[33m'\u001b[39m\u001b[33mNo emojis here!\u001b[39m\u001b[33m'\u001b[39m, \u001b[33m'\u001b[39m\u001b[33m🔥🔥😊\u001b[39m\u001b[33m'\u001b[39m]\n\u001b[32m----> \u001b[39m\u001b[32m3\u001b[39m [em \u001b[38;5;28;01mif\u001b[39;00m em == \u001b[38;5;28;43mlen\u001b[39;49m\u001b[43m(\u001b[49m\u001b[38;5;28;43mchr\u001b[39;49m\u001b[43m)\u001b[49m \u001b[38;5;28;01melse\u001b[39;00m \u001b[38;5;28mlen\u001b[39m(\u001b[38;5;28mchr\u001b[39m) \u001b[38;5;28;01mfor\u001b[39;00m em \u001b[38;5;129;01min\u001b[39;00m messages]\n",
      "\u001b[31mTypeError\u001b[39m: object of type 'builtin_function_or_method' has no len()"
     ]
    }
   ],
   "source": [
    "messages = ['😊🎉', 'Hi there! 😊', 'No emojis here!', '🔥🔥😊']\n",
    "\n",
    "[em if em == len(chr) else len(chr) for em in messages]"
   ]
  },
  {
   "cell_type": "code",
   "execution_count": 27,
   "id": "aa4d3421",
   "metadata": {},
   "outputs": [
    {
     "name": "stdout",
     "output_type": "stream",
     "text": [
      "Collecting emoji\n",
      "  Downloading emoji-2.14.1-py3-none-any.whl.metadata (5.7 kB)\n",
      "Downloading emoji-2.14.1-py3-none-any.whl (590 kB)\n",
      "   ---------------------------------------- 0.0/590.6 kB ? eta -:--:--\n",
      "   ----------------------------------- ---- 524.3/590.6 kB 5.0 MB/s eta 0:00:01\n",
      "   ---------------------------------------- 590.6/590.6 kB 4.8 MB/s eta 0:00:00\n",
      "Installing collected packages: emoji\n",
      "Successfully installed emoji-2.14.1\n",
      "Note: you may need to restart the kernel to use updated packages.\n"
     ]
    }
   ],
   "source": [
    "pip install emoji"
   ]
  },
  {
   "cell_type": "code",
   "execution_count": 59,
   "id": "9acf15d6",
   "metadata": {},
   "outputs": [
    {
     "name": "stdout",
     "output_type": "stream",
     "text": [
      "[2, 1, 0, 3]\n",
      "['No emojis here!']\n"
     ]
    }
   ],
   "source": [
    "import emoji\n",
    "\n",
    "messages = ['😊🎉', 'Hi there! 😊', 'No emojis here!', '🔥🔥😊']\n",
    "\n",
    "emj_count = []\n",
    "\n",
    "for i in messages:\n",
    "    emj_count.append(emoji.emoji_count(i))\n",
    "    \n",
    "print(emj_count)\n",
    "\n",
    "noEmoji = [em for em in messages if emoji.emoji_count(em) == 0] \n",
    "print(noEmoji)\n",
    "  "
   ]
  }
 ],
 "metadata": {
  "kernelspec": {
   "display_name": ".venv",
   "language": "python",
   "name": "python3"
  },
  "language_info": {
   "codemirror_mode": {
    "name": "ipython",
    "version": 3
   },
   "file_extension": ".py",
   "mimetype": "text/x-python",
   "name": "python",
   "nbconvert_exporter": "python",
   "pygments_lexer": "ipython3",
   "version": "3.13.3"
  }
 },
 "nbformat": 4,
 "nbformat_minor": 5
}
