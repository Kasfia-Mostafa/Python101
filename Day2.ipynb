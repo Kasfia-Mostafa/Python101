{
 "cells": [
  {
   "cell_type": "markdown",
   "id": "1a971963",
   "metadata": {},
   "source": [
    "# Session"
   ]
  },
  {
   "cell_type": "code",
   "execution_count": 4,
   "id": "a2f7bc2b",
   "metadata": {},
   "outputs": [
    {
     "name": "stdout",
     "output_type": "stream",
     "text": [
      "1 and 2 and 3 and 4 and 5\n"
     ]
    }
   ],
   "source": [
    "print(1, 2, 3, 4, 5, sep=' and ') # prints 12345"
   ]
  },
  {
   "cell_type": "code",
   "execution_count": 7,
   "id": "b1f081fa",
   "metadata": {},
   "outputs": [
    {
     "name": "stdout",
     "output_type": "stream",
     "text": [
      "1\n",
      "2\n",
      "3\n",
      "4\n",
      "5\n"
     ]
    }
   ],
   "source": [
    "print(1, 2, 3, 4, 5, sep='\\n')"
   ]
  },
  {
   "cell_type": "code",
   "execution_count": 10,
   "id": "aa9f01b8",
   "metadata": {},
   "outputs": [
    {
     "name": "stdout",
     "output_type": "stream",
     "text": [
      "1 2 3 4 5\n",
      "\n",
      "\n",
      "Hello\n"
     ]
    }
   ],
   "source": [
    "print(1, 2, 3, 4, 5, end='\\n\\n\\n')\n",
    "print(\"Hello\")"
   ]
  },
  {
   "cell_type": "code",
   "execution_count": 11,
   "id": "8ca06065",
   "metadata": {},
   "outputs": [
    {
     "name": "stdout",
     "output_type": "stream",
     "text": [
      "S\n",
      "w\n",
      "o\n",
      "r\n",
      "n\n",
      "a\n"
     ]
    }
   ],
   "source": [
    "string = input(\"Enter a Name: \")\n",
    "print(*list(string), sep='\\n')"
   ]
  },
  {
   "cell_type": "code",
   "execution_count": 12,
   "id": "3a98423a",
   "metadata": {},
   "outputs": [
    {
     "name": "stdout",
     "output_type": "stream",
     "text": [
      "10 7\n"
     ]
    }
   ],
   "source": [
    "a,b = 7,10\n",
    "a,b = b,a\n",
    "print(a,b)"
   ]
  },
  {
   "cell_type": "code",
   "execution_count": 13,
   "id": "26c36dd2",
   "metadata": {},
   "outputs": [
    {
     "name": "stdout",
     "output_type": "stream",
     "text": [
      "25\n",
      "4\n",
      "2\n"
     ]
    }
   ],
   "source": [
    "print(5**2)\n",
    "print(19%5)\n",
    "print(6//3)"
   ]
  },
  {
   "cell_type": "code",
   "execution_count": 1,
   "id": "2808e186",
   "metadata": {},
   "outputs": [
    {
     "name": "stdout",
     "output_type": "stream",
     "text": [
      "Hello Sworna\n"
     ]
    }
   ],
   "source": [
    "def name_input():\n",
    "    \"\"\" \n",
    "    Input String and show the value by calling the function\n",
    "    \"\"\"\n",
    "    name = input(\"Enter your name: \") \n",
    " \n",
    "    # print(f\"Hello, {name}\")\n",
    "    print(\"Hello \" + name)\n",
    "\n",
    "name_input()"
   ]
  },
  {
   "cell_type": "code",
   "execution_count": null,
   "id": "1bc833c8",
   "metadata": {},
   "outputs": [
    {
     "name": "stdout",
     "output_type": "stream",
     "text": [
      "Hello, Sworna\n"
     ]
    }
   ],
   "source": [
    "def greet(name):\n",
    "    \"\"\"_summary_\n",
    "\n",
    "    Args:\n",
    "        name (_type_): _description_\n",
    "\n",
    "    Returns:\n",
    "        _type_: _description_\n",
    "    \"\"\"\n",
    "    return f\"Hello, {name}\"\n",
    "\n",
    "print(greet(\"Sworna\"))"
   ]
  },
  {
   "cell_type": "code",
   "execution_count": 2,
   "id": "e93dda62",
   "metadata": {},
   "outputs": [
    {
     "name": "stdout",
     "output_type": "stream",
     "text": [
      "The value of pi is 3.141592653589793\n"
     ]
    }
   ],
   "source": [
    "from math import pi as p\n",
    "\n",
    "print(\"The value of pi is\", p)"
   ]
  },
  {
   "cell_type": "code",
   "execution_count": 3,
   "id": "5f68c9eb",
   "metadata": {},
   "outputs": [
    {
     "name": "stdout",
     "output_type": "stream",
     "text": [
      "5\n"
     ]
    }
   ],
   "source": [
    "import random\n",
    "print(random.randint(1, 5))"
   ]
  },
  {
   "cell_type": "code",
   "execution_count": null,
   "id": "643f9402",
   "metadata": {},
   "outputs": [
    {
     "name": "stdout",
     "output_type": "stream",
     "text": [
      "[1, 2, 3, 4, 5, 6, 7, 8, 9, 10, 11, 12, 13, 14, 15, 16, 17, 18, 19, 20, 21, 22, 23, 24, 25, 26, 27, 28, 29, 30]\n"
     ]
    }
   ],
   "source": [
    "students = list(range(1, 31))\n",
    "print(students)"
   ]
  },
  {
   "cell_type": "code",
   "execution_count": 6,
   "id": "001665c7",
   "metadata": {},
   "outputs": [
    {
     "name": "stdout",
     "output_type": "stream",
     "text": [
      "[6, 17, 14, 24, 11, 12, 26, 13, 10, 25, 21, 9, 1, 15, 19, 22, 4, 18, 5, 23, 20, 27, 8, 3, 2, 16, 30, 29, 28, 7]\n"
     ]
    }
   ],
   "source": [
    "import random\n",
    "\n",
    "students = list(range(1, 31))\n",
    "random.shuffle(students)\n",
    "print(students)"
   ]
  }
 ],
 "metadata": {
  "kernelspec": {
   "display_name": ".venv",
   "language": "python",
   "name": "python3"
  },
  "language_info": {
   "codemirror_mode": {
    "name": "ipython",
    "version": 3
   },
   "file_extension": ".py",
   "mimetype": "text/x-python",
   "name": "python",
   "nbconvert_exporter": "python",
   "pygments_lexer": "ipython3",
   "version": "3.13.3"
  }
 },
 "nbformat": 4,
 "nbformat_minor": 5
}
