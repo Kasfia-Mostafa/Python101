{
 "cells": [
  {
   "cell_type": "markdown",
   "id": "1a971963",
   "metadata": {},
   "source": [
    "# Session"
   ]
  },
  {
   "cell_type": "code",
   "execution_count": 4,
   "id": "a2f7bc2b",
   "metadata": {},
   "outputs": [
    {
     "name": "stdout",
     "output_type": "stream",
     "text": [
      "1 and 2 and 3 and 4 and 5\n"
     ]
    }
   ],
   "source": [
    "print(1, 2, 3, 4, 5, sep=' and ') # prints 12345"
   ]
  },
  {
   "cell_type": "code",
   "execution_count": 7,
   "id": "b1f081fa",
   "metadata": {},
   "outputs": [
    {
     "name": "stdout",
     "output_type": "stream",
     "text": [
      "1\n",
      "2\n",
      "3\n",
      "4\n",
      "5\n"
     ]
    }
   ],
   "source": [
    "print(1, 2, 3, 4, 5, sep='\\n')"
   ]
  },
  {
   "cell_type": "code",
   "execution_count": 10,
   "id": "aa9f01b8",
   "metadata": {},
   "outputs": [
    {
     "name": "stdout",
     "output_type": "stream",
     "text": [
      "1 2 3 4 5\n",
      "\n",
      "\n",
      "Hello\n"
     ]
    }
   ],
   "source": [
    "print(1, 2, 3, 4, 5, end='\\n\\n\\n')\n",
    "print(\"Hello\")"
   ]
  },
  {
   "cell_type": "code",
   "execution_count": 11,
   "id": "8ca06065",
   "metadata": {},
   "outputs": [
    {
     "name": "stdout",
     "output_type": "stream",
     "text": [
      "S\n",
      "w\n",
      "o\n",
      "r\n",
      "n\n",
      "a\n"
     ]
    }
   ],
   "source": [
    "string = input(\"Enter a Name: \")\n",
    "print(*list(string), sep='\\n')"
   ]
  },
  {
   "cell_type": "code",
   "execution_count": 12,
   "id": "3a98423a",
   "metadata": {},
   "outputs": [
    {
     "name": "stdout",
     "output_type": "stream",
     "text": [
      "10 7\n"
     ]
    }
   ],
   "source": [
    "a,b = 7,10\n",
    "a,b = b,a\n",
    "print(a,b)"
   ]
  },
  {
   "cell_type": "code",
   "execution_count": 13,
   "id": "26c36dd2",
   "metadata": {},
   "outputs": [
    {
     "name": "stdout",
     "output_type": "stream",
     "text": [
      "25\n",
      "4\n",
      "2\n"
     ]
    }
   ],
   "source": [
    "print(5**2)\n",
    "print(19%5)\n",
    "print(6//3)"
   ]
  },
  {
   "cell_type": "code",
   "execution_count": null,
   "id": "2808e186",
   "metadata": {},
   "outputs": [
    {
     "name": "stdout",
     "output_type": "stream",
     "text": [
      "Hello Sworna\n"
     ]
    }
   ],
   "source": [
    "def name_input():\n",
    "    \"\"\"\n",
    "    Input String and show the value by calling the function\n",
    "    \"\"\"\n",
    "    name = input(\"Enter your name: \")\n",
    "\n",
    "    # print(f\"Hello, {name}\")\n",
    "    print(\"Hello \" + name)\n",
    "\n",
    "name_input()"
   ]
  },
  {
   "cell_type": "code",
   "execution_count": null,
   "id": "1bc833c8",
   "metadata": {},
   "outputs": [
    {
     "name": "stdout",
     "output_type": "stream",
     "text": [
      "Hello, Sworna\n"
     ]
    }
   ],
   "source": [
    "def greet(name):\n",
    "    \"\"\"_summary_\n",
    "\n",
    "    Args:\n",
    "        name (_type_): _description_\n",
    "\n",
    "    Returns:\n",
    "        _type_: _description_\n",
    "    \"\"\"\n",
    "    return f\"Hello, {name}\"\n",
    "\n",
    "print(greet(\"Sworna\"))"
   ]
  },
  {
   "cell_type": "code",
   "execution_count": 2,
   "id": "e93dda62",
   "metadata": {},
   "outputs": [
    {
     "name": "stdout",
     "output_type": "stream",
     "text": [
      "The value of pi is 3.141592653589793\n"
     ]
    }
   ],
   "source": [
    "from math import pi as p\n",
    "\n",
    "print(\"The value of pi is\", p)"
   ]
  },
  {
   "cell_type": "code",
   "execution_count": 3,
   "id": "5f68c9eb",
   "metadata": {},
   "outputs": [
    {
     "name": "stdout",
     "output_type": "stream",
     "text": [
      "5\n"
     ]
    }
   ],
   "source": [
    "import random\n",
    "print(random.randint(1, 5))"
   ]
  },
  {
   "cell_type": "code",
   "execution_count": null,
   "id": "643f9402",
   "metadata": {},
   "outputs": [
    {
     "name": "stdout",
     "output_type": "stream",
     "text": [
      "[1, 2, 3, 4, 5, 6, 7, 8, 9, 10, 11, 12, 13, 14, 15, 16, 17, 18, 19, 20, 21, 22, 23, 24, 25, 26, 27, 28, 29, 30]\n"
     ]
    }
   ],
   "source": [
    "students = list(range(1, 31))\n",
    "print(students)"
   ]
  },
  {
   "cell_type": "code",
   "execution_count": 6,
   "id": "001665c7",
   "metadata": {},
   "outputs": [
    {
     "name": "stdout",
     "output_type": "stream",
     "text": [
      "[6, 17, 14, 24, 11, 12, 26, 13, 10, 25, 21, 9, 1, 15, 19, 22, 4, 18, 5, 23, 20, 27, 8, 3, 2, 16, 30, 29, 28, 7]\n"
     ]
    }
   ],
   "source": [
    "import random\n",
    "\n",
    "students = list(range(1, 31))\n",
    "random.shuffle(students)\n",
    "print(students)"
   ]
  },
  {
   "cell_type": "code",
   "execution_count": null,
   "id": "191fc082",
   "metadata": {},
   "outputs": [
    {
     "name": "stdout",
     "output_type": "stream",
     "text": [
      "X is neither 3 or 5\n"
     ]
    }
   ],
   "source": [
    "x = int(input(\"Enter a number \"))\n",
    "\n",
    "if x==3:\n",
    "    print(\"X is 3\")\n",
    "elif(x==5):\n",
    "    print(\"X is 5\")\n",
    "else:\n",
    "    print(\"X is neither 3 nor 5\")"
   ]
  },
  {
   "cell_type": "code",
   "execution_count": 2,
   "id": "880b931f",
   "metadata": {},
   "outputs": [
    {
     "name": "stdout",
     "output_type": "stream",
     "text": [
      "X is not 5\n"
     ]
    }
   ],
   "source": [
    "if x != 5: # if x is not 3\n",
    "    print(\"X is not 5\")"
   ]
  },
  {
   "cell_type": "code",
   "execution_count": null,
   "id": "2c75de6a",
   "metadata": {},
   "outputs": [],
   "source": [
    "y = 2\n",
    "x = 7\n",
    "\n",
    "if (x == 3 or x == 5) and y == 2: # use parens in complicated statements\n",
    "    print(x, y)"
   ]
  },
  {
   "cell_type": "code",
   "execution_count": null,
   "id": "c5b2f64d",
   "metadata": {},
   "outputs": [
    {
     "name": "stdout",
     "output_type": "stream",
     "text": [
      "You got it!\n"
     ]
    }
   ],
   "source": [
    "num = 5\n",
    "guess = int(input(\"Enter a number \"))\n",
    "\n",
    "if guess == num:\n",
    "    print(\"You got it!\")\n",
    "else:\n",
    "    print(\"You missed it.\")"
   ]
  },
  {
   "cell_type": "code",
   "execution_count": 10,
   "id": "b7634464",
   "metadata": {},
   "outputs": [
    {
     "name": "stdout",
     "output_type": "stream",
     "text": [
      "Your total bill is $50.00\n"
     ]
    }
   ],
   "source": [
    "entry = input(\"Do you have any discount? (yes/no):\")\n",
    "entryLower = entry.lower()\n",
    "\n",
    "if entryLower == \"yes\":\n",
    "    print(\"Your total bill is $45.00\")\n",
    "elif entryLower == \"no\":\n",
    "    print(\"Your total bill is $50.00\")\n",
    "else:\n",
    "    print(\"Invalid entry\")"
   ]
  },
  {
   "cell_type": "code",
   "execution_count": 12,
   "id": "b7073dfd",
   "metadata": {},
   "outputs": [
    {
     "name": "stdout",
     "output_type": "stream",
     "text": [
      "2 6 10 14 18 22 26 30 34 38 42 46 "
     ]
    }
   ],
   "source": [
    "for i in range(2,50,4):\n",
    "    print(i, end=\" \")"
   ]
  },
  {
   "cell_type": "code",
   "execution_count": 17,
   "id": "591a7d37",
   "metadata": {},
   "outputs": [
    {
     "name": "stdout",
     "output_type": "stream",
     "text": [
      "2 3 4 5 6 7 8 9 10 11 12 13 14 15 16 17 18 19 20 21 22 23 24 25 26 27 28 29 30 31 32 33 34 35 36 37 38 39 40 41 42 43 44 45 46 47 48 49 "
     ]
    }
   ],
   "source": [
    "for i in range(2,50):\n",
    "    print(i, end=\" \")"
   ]
  },
  {
   "cell_type": "code",
   "execution_count": null,
   "id": "a40a1f7e",
   "metadata": {},
   "outputs": [
    {
     "name": "stdout",
     "output_type": "stream",
     "text": [
      "100 90 80 70 60 50 40 30 20 10 "
     ]
    }
   ],
   "source": [
    "for i in range(100,1,-5):\n",
    "    if i % 2 == 0:\n",
    "     print(i, end=\" \")"
   ]
  },
  {
   "cell_type": "code",
   "execution_count": 10,
   "id": "22eaf766",
   "metadata": {},
   "outputs": [
    {
     "name": "stdout",
     "output_type": "stream",
     "text": [
      "Vowels: 2\n",
      "Consonants: 4\n"
     ]
    }
   ],
   "source": [
    "name = input(\"Enter your Name\")\n",
    "\n",
    "v=0\n",
    "c=0\n",
    "\n",
    "for n in name:\n",
    "    if n == \"a\" or n == \"e\" or n == \"i\" or n == \"o\" or n == \"u\" :\n",
    "      v+=1\n",
    "    else:\n",
    "      c+=1\n",
    "\n",
    "\n",
    "print(\"Vowels:\", v)\n",
    "print(\"Consonants:\", c)"
   ]
  },
  {
   "cell_type": "code",
   "execution_count": null,
   "id": "def41f51",
   "metadata": {},
   "outputs": [],
   "source": [
    "name = input(\"Enter your Name: \")\n",
    "print(name)\n",
    "\n",
    "v = 0\n",
    "c = 0\n",
    "\n",
    "for n in name:\n",
    "    if n in \"aeiouAEIOU\":\n",
    "        v += 1\n",
    "    elif n.isalpha():\n",
    "        c += 1\n",
    "\n",
    "print(\"Vowels:\", v)\n",
    "print(\"Consonants:\", c)\n"
   ]
  },
  {
   "cell_type": "code",
   "execution_count": null,
   "id": "f7f7f9f9",
   "metadata": {},
   "outputs": [
    {
     "name": "stdout",
     "output_type": "stream",
     "text": [
      "sworna\n",
      "2 4\n"
     ]
    }
   ],
   "source": [
    "name = input(\"Enter your Name\")\n",
    "print(name)\n",
    "\n",
    "v = name.count(\"a\") + name.count(\"e\") + name.count(\"i\") + name.count(\"o\") + name.count(\"u\")\n",
    "c = len(name) - v\n",
    "\n",
    "print(v,c)"
   ]
  },
  {
   "cell_type": "code",
   "execution_count": 11,
   "id": "50be78a0",
   "metadata": {},
   "outputs": [
    {
     "name": "stdout",
     "output_type": "stream",
     "text": [
      "1\n",
      "2\n",
      "3\n",
      "4\n"
     ]
    },
    {
     "name": "stderr",
     "output_type": "stream",
     "text": [
      "<>:2: SyntaxWarning: \"is not\" with 'int' literal. Did you mean \"!=\"?\n",
      "<>:2: SyntaxWarning: \"is not\" with 'int' literal. Did you mean \"!=\"?\n",
      "<>:2: SyntaxWarning: \"is not\" with 'int' literal. Did you mean \"!=\"?\n",
      "<>:2: SyntaxWarning: \"is not\" with 'int' literal. Did you mean \"!=\"?\n",
      "C:\\Users\\Student\\AppData\\Local\\Temp\\ipykernel_13280\\1358139193.py:2: SyntaxWarning: \"is not\" with 'int' literal. Did you mean \"!=\"?\n",
      "  while i is not 5:\n",
      "C:\\Users\\Student\\AppData\\Local\\Temp\\ipykernel_13280\\1358139193.py:2: SyntaxWarning: \"is not\" with 'int' literal. Did you mean \"!=\"?\n",
      "  while i is not 5:\n"
     ]
    }
   ],
   "source": [
    "i = 1\n",
    "while i is not 5:\n",
    "    print(i)\n",
    "    i+=1"
   ]
  },
  {
   "cell_type": "code",
   "execution_count": null,
   "id": "187257cf",
   "metadata": {},
   "outputs": [
    {
     "name": "stdout",
     "output_type": "stream",
     "text": [
      "54\n",
      "Got it. Attempt:  1\n"
     ]
    }
   ],
   "source": [
    "from random import randint\n",
    "\n",
    "num = randint(1,100)\n",
    "print(num)\n",
    "i = 0\n",
    "\n",
    "while True:\n",
    "    guess = int(input(\"Enter a number: \"))\n",
    "    i += 1\n",
    "\n",
    "    if guess == num:\n",
    "        print(\"Got it. Attempt: \", i)\n",
    "        break\n",
    "    elif guess > num:\n",
    "        print(\"High. Attempt: \", i)\n",
    "    else:\n",
    "        print(\"Low. Attempt: \", i)\n"
   ]
  },
  {
   "cell_type": "code",
   "execution_count": null,
   "id": "9551c739",
   "metadata": {},
   "outputs": [
    {
     "name": "stdout",
     "output_type": "stream",
     "text": [
      "Computer chose: scissors\n",
      "You win!\n",
      "Computer chose: rock\n",
      "Tie!\n"
     ]
    }
   ],
   "source": [
    "import random\n",
    "\n",
    "while True:\n",
    "    player = input(\"rock, paper, or scissors? (or 'quit'): \").lower()\n",
    "    if player == 'quit':\n",
    "        break\n",
    "\n",
    "    if player not in ['rock', 'paper', 'scissors']:\n",
    "        print(\"Invalid choice! Please try again.\")\n",
    "        continue\n",
    "\n",
    "    computer = random.choice(['rock', 'paper', 'scissors'])\n",
    "    print(f\"Computer chose: {computer}\")\n",
    "\n",
    "    if player == computer:\n",
    "        print(\"Tie!\")\n",
    "    elif (player == 'rock' and computer == 'scissors') or (player == 'scissors' and computer == 'paper') or (player == 'paper' and computer == 'rock'):\n",
    "        print(\"You win!\")\n",
    "    else:\n",
    "        print(\"Computer wins!\")"
   ]
  }
 ],
 "metadata": {
  "kernelspec": {
   "display_name": ".venv",
   "language": "python",
   "name": "python3"
  },
  "language_info": {
   "codemirror_mode": {
    "name": "ipython",
    "version": 3
   },
   "file_extension": ".py",
   "mimetype": "text/x-python",
   "name": "python",
   "nbconvert_exporter": "python",
   "pygments_lexer": "ipython3",
   "version": "3.13.3"
  }
 },
 "nbformat": 4,
 "nbformat_minor": 5
}
