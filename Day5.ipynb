{
 "cells": [
  {
   "cell_type": "code",
   "execution_count": 1,
   "id": "5175851c",
   "metadata": {},
   "outputs": [
    {
     "name": "stdout",
     "output_type": "stream",
     "text": [
      "{' It rains', ' I do not like walking home ', 'First I wake up', ' I read a book', ' I walk home', ' Then, I go to bed', 'I play outside', ' I like to read books', ' I walk to school', ' Then, I get dressed', ' I eat lunch', ' I like to play', ' I do not ride the bus', ' I do not ride a bike', ' I do not like rain', ' I do not like to go to bed', ' I eat a sandwich and an apple', ' I like to go to school', ' The soup is hot', ' My mother cooks soup for dinner'}\n",
      "20\n",
      "It's a proper paragraph\n"
     ]
    }
   ],
   "source": [
    "text= \"First I wake up. Then, I get dressed. I walk to school. I do not ride a bike. I do not ride the bus. I like to go to school. It rains. I do not like rain. I eat lunch. I eat a sandwich and an apple.I play outside. I like to play. I read a book. I like to read books. I walk home. I do not like walking home . My mother cooks soup for dinner. The soup is hot. Then, I go to bed. I do not like to go to bed\"\n",
    "words = text.split(\".\")\n",
    "\n",
    "\n",
    "sen_words = set(words)\n",
    "print(sen_words)\n",
    "print(len(sen_words))\n",
    "\n",
    "if len(sen_words) < 3:\n",
    "    print(\"Not a sentence\")\n",
    "else:\n",
    "    print(\"It's a proper paragraph\")\n",
    "\n"
   ]
  },
  {
   "cell_type": "code",
   "execution_count": null,
   "id": "3f5239c0",
   "metadata": {},
   "outputs": [],
   "source": []
  }
 ],
 "metadata": {
  "kernelspec": {
   "display_name": ".venv",
   "language": "python",
   "name": "python3"
  },
  "language_info": {
   "codemirror_mode": {
    "name": "ipython",
    "version": 3
   },
   "file_extension": ".py",
   "mimetype": "text/x-python",
   "name": "python",
   "nbconvert_exporter": "python",
   "pygments_lexer": "ipython3",
   "version": "3.13.3"
  }
 },
 "nbformat": 4,
 "nbformat_minor": 5
}
